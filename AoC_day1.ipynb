{
  "nbformat": 4,
  "nbformat_minor": 0,
  "metadata": {
    "colab": {
      "name": "AoC_day1.ipynb",
      "provenance": []
    },
    "kernelspec": {
      "name": "python3",
      "display_name": "Python 3"
    },
    "language_info": {
      "name": "python"
    }
  },
  "cells": [
    {
      "cell_type": "code",
      "metadata": {
        "colab": {
          "base_uri": "https://localhost:8080/"
        },
        "id": "WBgGA-Jer_nc",
        "outputId": "4fdb2a2a-13ab-43fa-c180-aea7254f9591"
      },
      "source": [
        "import pandas as pd\n",
        "import numpy as np\n",
        "from google.colab import drive\n",
        "drive.mount('Namizje')"
      ],
      "execution_count": 1,
      "outputs": [
        {
          "output_type": "stream",
          "name": "stdout",
          "text": [
            "Drive already mounted at Namizje; to attempt to forcibly remount, call drive.mount(\"Namizje\", force_remount=True).\n"
          ]
        }
      ]
    },
    {
      "cell_type": "code",
      "metadata": {
        "id": "I6kNfPsBZP3d"
      },
      "source": [
        "#def text():\n",
        " # np.loadtxt('AoC.txt', delimiter=',', dtype=int)"
      ],
      "execution_count": 5,
      "outputs": []
    },
    {
      "cell_type": "code",
      "metadata": {
        "id": "sAJISDuEcLh-"
      },
      "source": [
        "data = np.loadtxt('AoC.txt', delimiter=',', dtype=int)"
      ],
      "execution_count": 8,
      "outputs": []
    },
    {
      "cell_type": "code",
      "metadata": {
        "colab": {
          "base_uri": "https://localhost:8080/"
        },
        "id": "bkEqGbsecQFX",
        "outputId": "3ea6abe3-6aef-444f-9b85-fbfc5851ed89"
      },
      "source": [
        "#Part 1\n",
        "\n",
        "for i in data:\n",
        "  for j in data:\n",
        "    if i+j==2020:\n",
        "      print(i*j)\n"
      ],
      "execution_count": 13,
      "outputs": [
        {
          "output_type": "stream",
          "name": "stdout",
          "text": [
            "41979\n",
            "41979\n"
          ]
        }
      ]
    },
    {
      "cell_type": "code",
      "metadata": {
        "colab": {
          "base_uri": "https://localhost:8080/"
        },
        "id": "RYEh9DxMcvGG",
        "outputId": "bc3ab371-325b-4973-980b-cd5cf5162025"
      },
      "source": [
        "#Part 2\n",
        "\n",
        "for i in data:\n",
        "  for j in data:\n",
        "    for k in data:\n",
        "      if i+j+k == 2020:\n",
        "        print(i*j*k)"
      ],
      "execution_count": 14,
      "outputs": [
        {
          "output_type": "stream",
          "name": "stdout",
          "text": [
            "193416912\n",
            "193416912\n",
            "193416912\n",
            "193416912\n",
            "193416912\n",
            "193416912\n"
          ]
        }
      ]
    }
  ]
}