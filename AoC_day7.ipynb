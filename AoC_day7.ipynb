{
  "nbformat": 4,
  "nbformat_minor": 0,
  "metadata": {
    "colab": {
      "name": "AoC_day7.ipynb",
      "provenance": []
    },
    "kernelspec": {
      "name": "python3",
      "display_name": "Python 3"
    },
    "language_info": {
      "name": "python"
    }
  },
  "cells": [
    {
      "cell_type": "code",
      "metadata": {
        "colab": {
          "base_uri": "https://localhost:8080/"
        },
        "id": "WBgGA-Jer_nc",
        "outputId": "1fb2aaa6-4329-451c-fdc5-5ef859d9de83"
      },
      "source": [
        "import pandas as pd\n",
        "import numpy as np\n",
        "from google.colab import drive\n",
        "drive.mount('Namizje')\n",
        "import re\n",
        "import itertools\n"
      ],
      "execution_count": 1,
      "outputs": [
        {
          "output_type": "stream",
          "name": "stdout",
          "text": [
            "Drive already mounted at Namizje; to attempt to forcibly remount, call drive.mount(\"Namizje\", force_remount=True).\n"
          ]
        }
      ]
    },
    {
      "cell_type": "code",
      "metadata": {
        "id": "P_CE6dCefVRl"
      },
      "source": [
        "with open(\"AoC.txt\", 'r') as fp:\n",
        "    aoc=[f.strip() for f in fp]"
      ],
      "execution_count": 2,
      "outputs": []
    },
    {
      "cell_type": "code",
      "metadata": {
        "id": "IkHbFuX9epXr"
      },
      "source": [
        "def getNumBags(color):\n",
        "  items = [bag for bag in aoc if color in bag and bag.index(color) != 0]\n",
        "    \n",
        "  colors = []\n",
        "\n",
        "  if len(items) == 0: # if bag we are searching contains no other bags!\n",
        "    return []\n",
        "  else:\n",
        "    color = [bag[:bag.index(' bags')] for bag in items] # get text up until ' bags'\n",
        "    color = [i for i in color if i not in colors] # check all colors that haven't been checked before\n",
        "    for i in color:\n",
        "      colors.append(i)\n",
        "      bags = getNumBags(i)\n",
        "\n",
        "      colors += bags\n",
        "\n",
        "    all = []\n",
        "    for i in colors:\n",
        "      if i not in all:\n",
        "        all.append(i)\n",
        "\n",
        "    return all"
      ],
      "execution_count": 46,
      "outputs": []
    },
    {
      "cell_type": "code",
      "metadata": {
        "colab": {
          "base_uri": "https://localhost:8080/"
        },
        "id": "iqZAr09xfSHF",
        "outputId": "4188ffb2-ba39-46ae-8df3-d82adc95b7ad"
      },
      "source": [
        "bags = getNumBags('shiny gold')\n",
        "\n",
        "len(bags)"
      ],
      "execution_count": 49,
      "outputs": [
        {
          "output_type": "execute_result",
          "data": {
            "text/plain": [
              "348"
            ]
          },
          "metadata": {},
          "execution_count": 49
        }
      ]
    }
  ]
}