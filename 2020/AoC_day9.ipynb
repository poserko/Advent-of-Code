{
  "nbformat": 4,
  "nbformat_minor": 0,
  "metadata": {
    "colab": {
      "name": "AoC_day9.ipynb",
      "provenance": []
    },
    "kernelspec": {
      "name": "python3",
      "display_name": "Python 3"
    },
    "language_info": {
      "name": "python"
    }
  },
  "cells": [
    {
      "cell_type": "code",
      "metadata": {
        "colab": {
          "base_uri": "https://localhost:8080/"
        },
        "id": "WBgGA-Jer_nc",
        "outputId": "1ac189fe-a092-4a45-e401-521f71f16de7"
      },
      "source": [
        "\n",
        "import pandas as pd\n",
        "import numpy as np\n",
        "from google.colab import drive\n",
        "drive.mount('Namizje')\n",
        "import re\n",
        "import itertools\n"
      ],
      "execution_count": 1,
      "outputs": [
        {
          "output_type": "stream",
          "name": "stdout",
          "text": [
            "Drive already mounted at Namizje; to attempt to forcibly remount, call drive.mount(\"Namizje\", force_remount=True).\n"
          ]
        }
      ]
    },
    {
      "cell_type": "code",
      "metadata": {
        "id": "P_CE6dCefVRl"
      },
      "source": [
        "with open(\"AoC.txt\") as fp:\n",
        "  data=fp.readlines()\n",
        "  aoc=[f.strip() for f in data]\n",
        "  aoc=[int(x) for x in aoc]\n"
      ],
      "execution_count": 2,
      "outputs": []
    },
    {
      "cell_type": "code",
      "metadata": {
        "id": "31o9u5EjyhxU"
      },
      "source": [
        "test= [35,20,15,25,47,40,62,55,65,95,102,117,150,182,127,219,299,277,309,576]"
      ],
      "execution_count": 3,
      "outputs": []
    },
    {
      "cell_type": "code",
      "metadata": {
        "id": "R_YWrN7y2Gn1"
      },
      "source": [
        "#part 1\n",
        "\n",
        "s=[]\n",
        "n=[]\n",
        "\n",
        "for i in range(25,len(aoc)):\n",
        "  \n",
        "  slicing = aoc[i-25:i] # getting a list of 25 elements. Every subsequent list is incremented by 1 element.\n",
        "  number = aoc[i] # check if any two of those 25 elements sum to this number.\n",
        "\n",
        "  for x in slicing:\n",
        "    for y in slicing:\n",
        "      if x!=y:\n",
        "        if x+y == number:\n",
        "          s.append(number)\n",
        "        elif x+y != number:\n",
        "          n.append(number)"
      ],
      "execution_count": 4,
      "outputs": []
    },
    {
      "cell_type": "code",
      "metadata": {
        "colab": {
          "base_uri": "https://localhost:8080/"
        },
        "id": "Hyl60fPnhRLm",
        "outputId": "b243a1f4-2736-4e00-f776-508f931e9202"
      },
      "source": [
        "a = list(set(n))\n",
        "b = list(set(s))\n",
        "c = [x for x in a if x not in b]\n",
        "\n",
        "print(*c)\n"
      ],
      "execution_count": 5,
      "outputs": [
        {
          "output_type": "stream",
          "name": "stdout",
          "text": [
            "32321523\n"
          ]
        }
      ]
    },
    {
      "cell_type": "code",
      "metadata": {
        "id": "ijsp2e7BM0X1",
        "outputId": "9ce81ea6-c3de-44a8-c12c-49c4256673a5",
        "colab": {
          "base_uri": "https://localhost:8080/"
        }
      },
      "source": [
        "start = range(0,500)\n",
        "for k in start:\n",
        "  a=[]\n",
        "  s=0\n",
        "  for i in aoc[k:]:\n",
        "    s+=i\n",
        "    a.append(i)\n",
        "    \n",
        "    if sum(a)==32321523:\n",
        "      print(f'The elements are: {a}, max: {np.max(a)}, min: {np.max(a)}, largest diff: {np.max(a)+np.min(a)}  !')   \n"
      ],
      "execution_count": 6,
      "outputs": [
        {
          "output_type": "stream",
          "name": "stdout",
          "text": [
            "The elements are: [1566342, 1145730, 1282129, 1629261, 1499646, 1420517, 2477809, 1488058, 2493554, 1569411, 1570745, 1594250, 2149605, 3057469, 1675049, 2052697, 3649251], max: 3649251, min: 3649251, largest diff: 4794981  !\n"
          ]
        }
      ]
    }
  ]
}
