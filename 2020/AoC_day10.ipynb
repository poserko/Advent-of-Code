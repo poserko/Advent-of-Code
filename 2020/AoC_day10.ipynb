{
  "nbformat": 4,
  "nbformat_minor": 0,
  "metadata": {
    "colab": {
      "name": "AoC_day10.ipynb",
      "provenance": []
    },
    "kernelspec": {
      "display_name": "Python 3",
      "name": "python3"
    },
    "language_info": {
      "name": "python"
    }
  },
  "cells": [
    {
      "cell_type": "code",
      "metadata": {
        "colab": {
          "base_uri": "https://localhost:8080/"
        },
        "id": "WBgGA-Jer_nc",
        "outputId": "468558c0-88df-4878-8964-7c7dd2b764c0"
      },
      "source": [
        "import pandas as pd\n",
        "import numpy as np\n",
        "from google.colab import drive\n",
        "drive.mount('Namizje')\n",
        "import re\n",
        "import itertools\n",
        "from collections import Counter\n"
      ],
      "execution_count": 1,
      "outputs": [
        {
          "output_type": "stream",
          "name": "stdout",
          "text": [
            "Drive already mounted at Namizje; to attempt to forcibly remount, call drive.mount(\"Namizje\", force_remount=True).\n"
          ]
        }
      ]
    },
    {
      "cell_type": "code",
      "metadata": {
        "id": "P_CE6dCefVRl"
      },
      "source": [
        "with open(\"AoC.txt\") as fp:\n",
        "  data=fp.readlines()\n",
        "  aoc=[f.strip() for f in data]"
      ],
      "execution_count": 2,
      "outputs": []
    },
    {
      "cell_type": "code",
      "metadata": {
        "id": "2Fh0dHg5Rqy_"
      },
      "source": [
        "aoc = [int(i) for i in aoc]"
      ],
      "execution_count": 3,
      "outputs": []
    },
    {
      "cell_type": "code",
      "metadata": {
        "id": "GNiRx7iXgiCe"
      },
      "source": [
        "part1=aoc"
      ],
      "execution_count": 4,
      "outputs": []
    },
    {
      "cell_type": "code",
      "metadata": {
        "id": "YdFht21WhBtp"
      },
      "source": [
        "part1.insert(0,0)\n",
        "part1.sort()\n",
        "part1=np.diff(part1)"
      ],
      "execution_count": 9,
      "outputs": []
    },
    {
      "cell_type": "code",
      "metadata": {
        "colab": {
          "base_uri": "https://localhost:8080/"
        },
        "id": "AWs-5QvZPNWj",
        "outputId": "b66a4310-e989-41ae-ac33-a0b9d60010fd"
      },
      "source": [
        "one=[]\n",
        "ones=0\n",
        "two=[]\n",
        "twos=0\n",
        "three=[]\n",
        "threes=0\n",
        "for i in part1:\n",
        "  if i == 1:\n",
        "    one.append(i)\n",
        "    ones+=1\n",
        "  elif i == 2:\n",
        "    two.append(i)\n",
        "    twos+=1\n",
        "  elif i == 3:\n",
        "    three.append(i)\n",
        "    threes+=1\n",
        "\n",
        "print(ones)\n",
        "print(twos)\n",
        "print(threes+1)\n",
        "\n",
        "result=ones*(threes+1)\n",
        "print(result)\n"
      ],
      "execution_count": 16,
      "outputs": [
        {
          "output_type": "stream",
          "name": "stdout",
          "text": [
            "75\n",
            "0\n",
            "33\n",
            "2475\n"
          ]
        }
      ]
    },
    {
      "cell_type": "code",
      "metadata": {
        "id": "diRyv7Y4iD6e"
      },
      "source": [
        "#part 2\n",
        "\n",
        "\n",
        "with open(\"AoC.txt\") as fp:\n",
        "  data=fp.readlines()\n",
        "  aoc=[f.strip() for f in data]"
      ],
      "execution_count": 19,
      "outputs": []
    },
    {
      "cell_type": "code",
      "metadata": {
        "id": "-OZmjPl9iHOW"
      },
      "source": [
        "aoc = [int(i) for i in aoc]"
      ],
      "execution_count": 20,
      "outputs": []
    },
    {
      "cell_type": "code",
      "metadata": {
        "id": "qWNZATqcPLst"
      },
      "source": [
        "def foo(nums):\n",
        "    x = sorted(nums)\n",
        "    x.append(x[-1] + 3)\n",
        "\n",
        "    data = Counter()\n",
        "    data[0] = 1\n",
        "\n",
        "    for i in x:\n",
        "           \n",
        "      data[i] = data[i - 1] + data[i - 2] + data[i - 3]\n",
        "        \n",
        "\n",
        "    return data[x[-1]]\n"
      ],
      "execution_count": 39,
      "outputs": []
    },
    {
      "cell_type": "code",
      "metadata": {
        "colab": {
          "base_uri": "https://localhost:8080/"
        },
        "id": "PbgeN6XaZg0T",
        "outputId": "a646ce44-6eb4-4674-ef39-ff74616c73cd"
      },
      "source": [
        "print(foo(aoc))"
      ],
      "execution_count": 41,
      "outputs": [
        {
          "output_type": "stream",
          "name": "stdout",
          "text": [
            "442136281481216\n"
          ]
        }
      ]
    }
  ]
}
