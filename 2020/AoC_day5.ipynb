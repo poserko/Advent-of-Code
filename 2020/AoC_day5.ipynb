{
  "nbformat": 4,
  "nbformat_minor": 0,
  "metadata": {
    "colab": {
      "name": "AoC_day5.ipynb",
      "provenance": []
    },
    "kernelspec": {
      "name": "python3",
      "display_name": "Python 3"
    },
    "language_info": {
      "name": "python"
    }
  },
  "cells": [
    {
      "cell_type": "code",
      "metadata": {
        "colab": {
          "base_uri": "https://localhost:8080/"
        },
        "id": "WBgGA-Jer_nc",
        "outputId": "f43e8f3d-0054-4f59-ce59-81f29a180add"
      },
      "source": [
        "import pandas as pd\n",
        "import numpy as np\n",
        "from google.colab import drive\n",
        "drive.mount('Namizje')\n",
        "import re"
      ],
      "execution_count": 2,
      "outputs": [
        {
          "output_type": "stream",
          "name": "stdout",
          "text": [
            "Drive already mounted at Namizje; to attempt to forcibly remount, call drive.mount(\"Namizje\", force_remount=True).\n"
          ]
        }
      ]
    },
    {
      "cell_type": "code",
      "metadata": {
        "id": "P_CE6dCefVRl"
      },
      "source": [
        "with open(\"AoC.txt\", 'r') as fp:\n",
        "    aoc=[f.strip() for f in fp]\n"
      ],
      "execution_count": 3,
      "outputs": []
    },
    {
      "cell_type": "code",
      "metadata": {
        "id": "0GGTyzwRfAv0"
      },
      "source": [
        "def getsit(sit):\n",
        "  lower = 0\n",
        "  upper = 127\n",
        "\n",
        "  for line in range(6):\n",
        "    half = np.floor((upper+lower)/2)\n",
        "    if sit[line] == 'F':\n",
        "      upper = half    #upper reduces \n",
        "     # return lower\n",
        "    elif sit[line] == 'B':\n",
        "      lower = half +1 #upper increases\n",
        "      #return upper\n",
        "  if sit[6] == 'F':\n",
        "    return lower\n",
        "  else:\n",
        "    return upper"
      ],
      "execution_count": 4,
      "outputs": []
    },
    {
      "cell_type": "code",
      "metadata": {
        "id": "H3-56D8Ri977"
      },
      "source": [
        "def getcol(sit):\n",
        "  lower = 0\n",
        "  upper = 7\n",
        "\n",
        "  for col in range(2):\n",
        "    half = np.floor((upper+lower)/2)\n",
        "    if sit[col] == 'L':\n",
        "      upper = half\n",
        "    elif sit[col] == 'R':\n",
        "      lower = half + 1\n",
        "  if sit[2] == 'L':\n",
        "    return lower\n",
        "  else:\n",
        "    return upper"
      ],
      "execution_count": 5,
      "outputs": []
    },
    {
      "cell_type": "code",
      "metadata": {
        "id": "NrL53koLkXSL",
        "colab": {
          "base_uri": "https://localhost:8080/"
        },
        "outputId": "826d52ee-fd6a-46a8-859d-b3f9a86996c1"
      },
      "source": [
        "all=[]\n",
        "for i in aoc:\n",
        "  \n",
        "  row = getsit(i[:7])\n",
        "  col = getcol(i[7:])\n",
        "\n",
        "  id = row*8+col\n",
        "  all.append(id)\n",
        "print(max(all))"
      ],
      "execution_count": 8,
      "outputs": [
        {
          "output_type": "stream",
          "name": "stdout",
          "text": [
            "911.0\n"
          ]
        }
      ]
    },
    {
      "cell_type": "code",
      "metadata": {
        "colab": {
          "base_uri": "https://localhost:8080/"
        },
        "id": "SGE7mbqyMX_9",
        "outputId": "9782b49f-c3f7-4daa-c756-fd482b414aa1"
      },
      "source": [
        "#part 2\n",
        "\n",
        "for i in all:\n",
        "  if i+1 not in all and i+2 in all:\n",
        "    mis = i+1\n",
        "    \n",
        "\n",
        "print(mis)"
      ],
      "execution_count": 14,
      "outputs": [
        {
          "output_type": "stream",
          "name": "stdout",
          "text": [
            "629.0\n",
            "629.0\n"
          ]
        }
      ]
    }
  ]
}
