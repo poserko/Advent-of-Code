{
  "nbformat": 4,
  "nbformat_minor": 0,
  "metadata": {
    "colab": {
      "name": "AoC_day7.ipynb",
      "provenance": []
    },
    "kernelspec": {
      "name": "python3",
      "display_name": "Python 3"
    },
    "language_info": {
      "name": "python"
    }
  },
  "cells": [
    {
      "cell_type": "code",
      "metadata": {
        "colab": {
          "base_uri": "https://localhost:8080/"
        },
        "id": "WBgGA-Jer_nc",
        "outputId": "4aa4b5a0-ef82-43da-dca5-518ed7ed2c97"
      },
      "source": [
        "import pandas as pd\n",
        "import numpy as np\n",
        "from google.colab import drive\n",
        "drive.mount('Namizje')\n",
        "import re\n",
        "import itertools\n"
      ],
      "execution_count": null,
      "outputs": [
        {
          "output_type": "stream",
          "name": "stdout",
          "text": [
            "Drive already mounted at Namizje; to attempt to forcibly remount, call drive.mount(\"Namizje\", force_remount=True).\n"
          ]
        }
      ]
    },
    {
      "cell_type": "code",
      "metadata": {
        "id": "P_CE6dCefVRl"
      },
      "source": [
        "with open(\"AoC.txt\", 'r') as fp:\n",
        "    aoc=[f.strip() for f in fp]"
      ],
      "execution_count": null,
      "outputs": []
    },
    {
      "cell_type": "code",
      "metadata": {
        "id": "IkHbFuX9epXr"
      },
      "source": [
        "def getNumBags(color):\n",
        "  items = [bag for bag in aoc if color in bag and bag.index(color) != 0]\n",
        "    \n",
        "  colors = []\n",
        "\n",
        "  if len(items) == 0: # if bag we are searching contains no other bags!\n",
        "    return []\n",
        "  else:\n",
        "    color = [bag[:bag.index(' bags')] for bag in items] # get text up until ' bags'\n",
        "    color = [i for i in color if i not in colors] # check all colors that haven't been checked before\n",
        "    for i in color:\n",
        "      colors.append(i)\n",
        "      bags = getNumBags(i)\n",
        "\n",
        "      colors += bags\n",
        "\n",
        "    all = []\n",
        "    for i in colors:\n",
        "      if i not in all:\n",
        "        all.append(i)\n",
        "\n",
        "    return all"
      ],
      "execution_count": null,
      "outputs": []
    },
    {
      "cell_type": "code",
      "metadata": {
        "id": "iqZAr09xfSHF"
      },
      "source": [
        "bags = getNumBags('shiny gold')\n",
        "\n"
      ],
      "execution_count": null,
      "outputs": []
    },
    {
      "cell_type": "code",
      "metadata": {
        "id": "YRZtmOK7aRfP",
        "colab": {
          "base_uri": "https://localhost:8080/"
        },
        "outputId": "c592f3fd-3a45-467d-db71-fe30304495a2"
      },
      "source": [
        "count=[]\n",
        "for i in aoc:\n",
        "  if i[:i.index(' bags')] == 'faded blue':\n",
        "    gold = i.split()\n",
        "    for i in gold[4::1]:\n",
        "      count.append(i)\n",
        "      if count[0] == 'no':\n",
        "        count=[]\n",
        "        print(count)\n",
        "        "
      ],
      "execution_count": null,
      "outputs": [
        {
          "output_type": "stream",
          "name": "stdout",
          "text": [
            "[]\n"
          ]
        }
      ]
    },
    {
      "cell_type": "code",
      "metadata": {
        "id": "ajw_FV7SaWhR",
        "colab": {
          "base_uri": "https://localhost:8080/"
        },
        "outputId": "e06a6b12-c2d2-4258-e045-c4d4b96c9d54"
      },
      "source": [
        "items=[]     \n",
        "for i in count:\n",
        "  if i not in ('bag,','bags,','bags.','bag.'):\n",
        "    items.append(i)\n",
        "print(items)\n",
        "\n"
      ],
      "execution_count": null,
      "outputs": [
        {
          "output_type": "stream",
          "name": "stdout",
          "text": [
            "['other']\n"
          ]
        }
      ]
    },
    {
      "cell_type": "code",
      "metadata": {
        "id": "bI5LaYj7afVr",
        "colab": {
          "base_uri": "https://localhost:8080/"
        },
        "outputId": "7ac1a5d6-c398-46db-ee25-fe1a166d0abf"
      },
      "source": [
        "allBags = []\n",
        "\n",
        "sumOfNumbs =[]\n",
        "num = []\n",
        "numberOfBags = []\n",
        "multi = 1\n",
        "if items[0] != 'other':\n",
        "  for init in items[::3]:\n",
        "    num.append(init)\n",
        "    number = [int(i) for i in num]\n",
        "    #print(number)\n",
        "    \n",
        "    #multi *= number\n",
        "    #print(number)\n",
        "    sumofnum = sum(number)\n",
        "    sumOfNumbs.append(sumofnum)\n",
        "    bags = [x for x in items if not (x.isdigit() or x[0] == '-' and x[1:].isdigit())]\n",
        "    \n",
        "    \n",
        "    comb=[' '.join(x) for x in zip(bags[0::2], bags[1::2]) ]\n",
        "    \n",
        "    comb = [x for x in comb if x not in allBags]\n",
        "    for i in comb:\n",
        "     # print(i)\n",
        "      allBags.append(i)\n",
        "     \n",
        "else:\n",
        "  print('no items')\n",
        "\n",
        "all = []\n",
        "for i in allBags:\n",
        "  if i not in all:\n",
        "    all.append(i)\n",
        "print(all)\n",
        "print(number)\n",
        "print(sumofnum)\n",
        "\n",
        "for i in all:\n",
        "  for j in number:\n",
        "    res = dict(zip(all, number))\n",
        "\n",
        "\n",
        "#sumOfNumbs[-1:]"
      ],
      "execution_count": null,
      "outputs": [
        {
          "output_type": "stream",
          "name": "stdout",
          "text": [
            "no items\n",
            "[]\n",
            "[3, 4]\n",
            "7\n"
          ]
        }
      ]
    },
    {
      "cell_type": "code",
      "metadata": {
        "id": "8xv_UiPajT_6"
      },
      "source": [
        "def get_Bag(color):\n",
        "  count=[]\n",
        "  for i in aoc:\n",
        "    if i[:i.index(' bags')] == color:\n",
        "      gold = i.split()\n",
        "      for i in gold[4::1]:\n",
        "        count.append(i)\n",
        "        if count[0] == 'no':\n",
        "          count=[]\n",
        "          #print(count)\n",
        "  \n",
        "  items=[]     \n",
        "  for i in count:\n",
        "    if i not in ('bag,','bags,','bags.','bag.'):\n",
        "      items.append(i)\n",
        "  \n",
        "\n",
        "  allBags = []\n",
        "  sumOfNumbs = []\n",
        "\n",
        "  num = []\n",
        "  multi = 1\n",
        "  if items[0] != 'other':\n",
        "    for init in items[::3]:\n",
        "      \n",
        "      num.append(init)\n",
        "      number = [int(i) for i in num]\n",
        "      #multi *= number\n",
        "      sumofnum = sum(number)\n",
        "      sumOfNumbs.append(sumofnum)\n",
        "      \n",
        "      #sumOfNumbs+=sumofnum\n",
        "      bags = [x for x in items if not (x.isdigit() or x[0] == '-' and x[1:].isdigit())]\n",
        "     # comb=[' '.join(x) for x in zip(bags[0::2], bags[1::2])]\n",
        "      \n",
        "   \n",
        "      comb=[' '.join(x) for x in zip(bags[0::2], bags[1::2]) ]\n",
        "      #comb = [x for x in comb if x not in allBags]\n",
        "      for i in comb:\n",
        "        allBags.append(i)\n",
        "        recursive = get_Bag(i)\n",
        "        allBags += recursive\n",
        "       \n",
        "\n",
        "  else:\n",
        "    return []\n",
        "  \n",
        "  all = []\n",
        "  for i in allBags:\n",
        "    if i not in all:\n",
        "      all.append(i)\n",
        "\n",
        "  \n",
        "  #print(sumOfNumbs[-1:])\n",
        "  \n",
        "  for i in all:\n",
        "    for j in number:\n",
        "      res = dict(zip(all, number))\n",
        "\n",
        "\n",
        "  return res"
      ],
      "execution_count": null,
      "outputs": []
    },
    {
      "cell_type": "code",
      "metadata": {
        "id": "Irq7fHRtnS0K"
      },
      "source": [
        "a = get_Bag('shiny gold')\n"
      ],
      "execution_count": null,
      "outputs": []
    },
    {
      "cell_type": "code",
      "metadata": {
        "id": "CqrvQrSDOKNm"
      },
      "source": [
        "#part 2\n",
        "\n",
        "bag_types = []\n",
        "all_bags = {}\n",
        "for line in aoc:\n",
        "  \n",
        "  mbag = \" \".join(line.split(\" \")[:2])\n",
        "    \n",
        "  contains = line[line.index(\"contain \")+8:-1]\n",
        "  \n",
        "  each_contain = contains.split(\",\")\n",
        "  each_contain = [cnt.lstrip() for cnt in each_contain]\n",
        "  \n",
        "  each_contain = [\" \".join(cont.split(\" \")[:-1]) for cont in each_contain]\n",
        "  \n",
        "  each_contain = {\" \".join(cont.split(\" \")[1:]):cont.split(\" \")[0] for cont in each_contain}\n",
        "  if mbag not in bag_types:\n",
        "      bag_types.append(mbag)\n",
        "      \n",
        "  if all_bags.get(mbag):\n",
        "      each_contain.update(all_bags[mbag]) \n",
        "  all_bags[mbag] = each_contain\n",
        "\n"
      ],
      "execution_count": null,
      "outputs": []
    },
    {
      "cell_type": "code",
      "metadata": {
        "id": "b9mdk2xwJ7Sl"
      },
      "source": [
        "c={}\n",
        "\n",
        "for k, v in all_bags.items():\n",
        "  print(k, v)\n",
        "  c[k] = []\n",
        "  print(c)\n",
        "  try:\n",
        "    for kk, vv in v.items():\n",
        "      c[k]+=[kk]*int(vv)\n",
        "  except:\n",
        "    pass"
      ],
      "execution_count": null,
      "outputs": []
    },
    {
      "cell_type": "code",
      "metadata": {
        "id": "6rhfIya6L3Ad"
      },
      "source": [
        "def count_bags(current_bag):\n",
        "    if current_bag==\" \" or c.get(current_bag) is None:\n",
        "        return 0\n",
        "\n",
        "    #print(\"key:\", current_bag)\n",
        "    cnt = len(c[current_bag])\n",
        "    cnts = []\n",
        "    for k in c[current_bag]:\n",
        "        cnts.append(count_bags(k))    \n",
        "    return sum(cnts)+cnt"
      ],
      "execution_count": null,
      "outputs": []
    },
    {
      "cell_type": "code",
      "metadata": {
        "colab": {
          "base_uri": "https://localhost:8080/"
        },
        "id": "gm7jqoJuMLB4",
        "outputId": "20e12c96-8c75-4239-890c-9589ccb757bd"
      },
      "source": [
        "count_bags('shiny gold')"
      ],
      "execution_count": null,
      "outputs": [
        {
          "output_type": "execute_result",
          "data": {
            "text/plain": [
              "18885"
            ]
          },
          "metadata": {},
          "execution_count": 49
        }
      ]
    }
  ]
}
