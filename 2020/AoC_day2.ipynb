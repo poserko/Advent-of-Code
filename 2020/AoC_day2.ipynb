{
  "nbformat": 4,
  "nbformat_minor": 0,
  "metadata": {
    "colab": {
      "name": "AoC_day2.ipynb",
      "provenance": []
    },
    "kernelspec": {
      "name": "python3",
      "display_name": "Python 3"
    },
    "language_info": {
      "name": "python"
    }
  },
  "cells": [
    {
      "cell_type": "code",
      "metadata": {
        "colab": {
          "base_uri": "https://localhost:8080/"
        },
        "id": "WBgGA-Jer_nc",
        "outputId": "8e774cb0-4a44-4613-e505-e6f656c57cd3"
      },
      "source": [
        "import pandas as pd\n",
        "import numpy as np\n",
        "from google.colab import drive\n",
        "drive.mount('Namizje')"
      ],
      "execution_count": 1,
      "outputs": [
        {
          "output_type": "stream",
          "name": "stdout",
          "text": [
            "Drive already mounted at Namizje; to attempt to forcibly remount, call drive.mount(\"Namizje\", force_remount=True).\n"
          ]
        }
      ]
    },
    {
      "cell_type": "code",
      "metadata": {
        "id": "sAJISDuEcLh-"
      },
      "source": [
        "data = np.loadtxt('AoC.txt', delimiter=',', dtype=str)"
      ],
      "execution_count": 4,
      "outputs": []
    },
    {
      "cell_type": "code",
      "metadata": {
        "id": "XaI3_FflwkQd"
      },
      "source": [
        "#part 1\n",
        "\n",
        "valid = []\n",
        "for i in data:\n",
        "  one, two = i.split(': ') #Split the string, using :, followed by a space, as a separator:\n",
        "  left, right = one.split(\" \")[0].split(\"-\")#spit the string using 'space', but keep only first element, hence [0], on that first element again split the string using '-'.\n",
        "  id = one.split(' ')[1] #split string using 'spece' but keep only the right one, hence [1] -- ['3-5', 'x']--if [1] only keep x\n",
        "  if int(left) <= two.count(id) <= int(right): \n",
        "    valid.append(two)\n",
        "\n",
        "len(valid)\n"
      ],
      "execution_count": 5,
      "outputs": []
    },
    {
      "cell_type": "code",
      "metadata": {
        "colab": {
          "base_uri": "https://localhost:8080/"
        },
        "id": "cSiWOt_F6y26",
        "outputId": "761e2bd6-bcda-43ab-b2a0-c668dd0e193a"
      },
      "source": [
        ""
      ],
      "execution_count": 6,
      "outputs": [
        {
          "output_type": "execute_result",
          "data": {
            "text/plain": [
              "398"
            ]
          },
          "metadata": {},
          "execution_count": 6
        }
      ]
    },
    {
      "cell_type": "code",
      "metadata": {
        "colab": {
          "base_uri": "https://localhost:8080/"
        },
        "id": "x2guOkxc7PHS",
        "outputId": "cda13316-2dd2-4fc7-9cd0-5cc765445a66"
      },
      "source": [
        "#part 2\n",
        "validpass=[]\n",
        "\n",
        "for i in data:\n",
        "  one, two = i.split(': ') #Split the string, using :, followed by a space, as a separator:\n",
        "  left, right = one.split(\" \")[0].split(\"-\")  #spit the string using 'space', but keep only first element, hence [0], on that first element again split the string using '-'.\n",
        "  id = one.split(' ')[1] #split string using 'spece' but keep only the right one, hence [1] -- ['3-5', 'x']--if [1] only keep x\n",
        "  count = 0  #every loop above will start from zero\n",
        "  \n",
        "  # we put multipe if statements (not if, elif, else) because with this approach only the password with one correct letter will be valid. \n",
        "  # if we wiuld use if elif than both statements could be correct which in this case isn't ok!!\n",
        "  if two[int(left)-1] == id:\n",
        "    count+=1  \n",
        "    \n",
        "  if two[int(right)-1] == id:\n",
        "    count+=1\n",
        "    \n",
        "  if count ==1:\n",
        "    validpass.append(two)  \n",
        "\n",
        "len(validpass)"
      ],
      "execution_count": 117,
      "outputs": [
        {
          "output_type": "execute_result",
          "data": {
            "text/plain": [
              "562"
            ]
          },
          "metadata": {},
          "execution_count": 117
        }
      ]
    }
  ]
}
