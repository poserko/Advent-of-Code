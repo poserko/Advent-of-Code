{
  "nbformat": 4,
  "nbformat_minor": 0,
  "metadata": {
    "colab": {
      "name": "AoC_day3.ipynb",
      "provenance": []
    },
    "kernelspec": {
      "name": "python3",
      "display_name": "Python 3"
    },
    "language_info": {
      "name": "python"
    }
  },
  "cells": [
    {
      "cell_type": "code",
      "metadata": {
        "colab": {
          "base_uri": "https://localhost:8080/"
        },
        "id": "WBgGA-Jer_nc",
        "outputId": "d8bdf60f-6ed6-4154-8d24-ed826e0cfe48"
      },
      "source": [
        "import pandas as pd\n",
        "import numpy as np\n",
        "from google.colab import drive\n",
        "drive.mount('Namizje')"
      ],
      "execution_count": 1,
      "outputs": [
        {
          "output_type": "stream",
          "name": "stdout",
          "text": [
            "Drive already mounted at Namizje; to attempt to forcibly remount, call drive.mount(\"Namizje\", force_remount=True).\n"
          ]
        }
      ]
    },
    {
      "cell_type": "code",
      "metadata": {
        "id": "sAJISDuEcLh-"
      },
      "source": [
        "#data = np.loadtxt('AoC.txt', delimiter=',', dtype=str)\n",
        "#data = np.loadtxt('AoC.txt')\n",
        "#map_basis = raw_input.split(\"\\n\")"
      ],
      "execution_count": null,
      "outputs": []
    },
    {
      "cell_type": "code",
      "metadata": {
        "id": "MVaijQUds-ra"
      },
      "source": [
        "with open(\"AoC.txt\", 'r') as f:\n",
        "    aoc=f.readlines()"
      ],
      "execution_count": 2,
      "outputs": []
    },
    {
      "cell_type": "code",
      "metadata": {
        "colab": {
          "base_uri": "https://localhost:8080/"
        },
        "id": "rK2FViPJwCbb",
        "outputId": "49bc727a-41ab-47ff-b2da-ca7ab105c93b"
      },
      "source": [
        "#part 1\n",
        "\n",
        "start = 0\n",
        "right = 3\n",
        "trees = 0\n",
        "for i, j in enumerate(aoc):\n",
        "  if j[start] == '#': # new start from below start - every loop you look if j has # at resoective place\n",
        "   trees+=1\n",
        "  start = (start+ right) % len(j[:-1])  # -1 because we are going down by 1. \n",
        "\n",
        "trees"
      ],
      "execution_count": 108,
      "outputs": [
        {
          "output_type": "execute_result",
          "data": {
            "text/plain": [
              "205"
            ]
          },
          "metadata": {},
          "execution_count": 108
        }
      ]
    },
    {
      "cell_type": "code",
      "metadata": {
        "colab": {
          "base_uri": "https://localhost:8080/"
        },
        "id": "zmie2cHKC9k8",
        "outputId": "f0b2fd3c-6108-48ce-bb40-c1107cc7464a"
      },
      "source": [
        "ways = [(1,1), (3,1), (5,1), (7,1), (1,2)]\n",
        "multiply_tress=1\n",
        "for way in ways:\n",
        "  way_x, way_y = way\n",
        "  trees=0\n",
        "  start=0\n",
        "  for i, j in enumerate(aoc):\n",
        "    if i%way_y == 0:\n",
        "      if j[start] == '#':\n",
        "        trees+=1\n",
        "      start = (start+ way_x) % len(j[1:]) # because you are already on the first position, you need to remove one point\n",
        "  print(trees)    \n",
        "  multiply_tress*=trees\n",
        "\n",
        "print(multiply_tress)"
      ],
      "execution_count": 25,
      "outputs": [
        {
          "output_type": "stream",
          "name": "stdout",
          "text": [
            "87\n",
            "205\n",
            "85\n",
            "79\n",
            "33\n",
            "3952146825\n"
          ]
        }
      ]
    }
  ]
}
