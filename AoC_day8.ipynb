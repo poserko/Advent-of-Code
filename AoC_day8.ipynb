{
  "nbformat": 4,
  "nbformat_minor": 0,
  "metadata": {
    "colab": {
      "name": "AoC_day8.ipynb",
      "provenance": []
    },
    "kernelspec": {
      "name": "python3",
      "display_name": "Python 3"
    },
    "language_info": {
      "name": "python"
    }
  },
  "cells": [
    {
      "cell_type": "code",
      "metadata": {
        "colab": {
          "base_uri": "https://localhost:8080/"
        },
        "id": "WBgGA-Jer_nc",
        "outputId": "6a1f11f2-1af7-4842-a58a-a4358119a0ff"
      },
      "source": [
        "\n",
        "import pandas as pd\n",
        "import numpy as np\n",
        "from google.colab import drive\n",
        "drive.mount('Namizje')\n",
        "import re\n",
        "import itertools\n"
      ],
      "execution_count": 1,
      "outputs": [
        {
          "output_type": "stream",
          "name": "stdout",
          "text": [
            "Drive already mounted at Namizje; to attempt to forcibly remount, call drive.mount(\"Namizje\", force_remount=True).\n"
          ]
        }
      ]
    },
    {
      "cell_type": "code",
      "metadata": {
        "id": "P_CE6dCefVRl"
      },
      "source": [
        "with open(\"AoC.txt\") as fp:\n",
        "  data=fp.readlines()\n",
        "  aoc=[f.strip() for f in data]"
      ],
      "execution_count": 2,
      "outputs": []
    },
    {
      "cell_type": "code",
      "metadata": {
        "id": "hqSCNDmimIhg"
      },
      "source": [
        "#part 1\n",
        "\n",
        "def accumulator():\n",
        "  acc = 0\n",
        "  line = 0\n",
        "  instructions = []\n",
        "\n",
        "  while line not in instructions: # loop until it is not if it is stop\n",
        "    instructions.append(line)\n",
        "\n",
        "    current = aoc[line]\n",
        "    current = current.split()\n",
        "\n",
        "    command = current[0]\n",
        "    num = current[0]\n",
        "\n",
        "    if '+' in num:\n",
        "      num = int(num[1:])\n",
        "    else:\n",
        "      num = int(current[1])\n",
        "\n",
        "      if command == 'acc':\n",
        "        acc += num\n",
        "        line += 1\n",
        "      elif command == 'jmp':\n",
        "        line += num\n",
        "      else:\n",
        "        command == 'nop'\n",
        "        line +=1\n",
        "\n",
        "  return acc"
      ],
      "execution_count": 3,
      "outputs": []
    },
    {
      "cell_type": "code",
      "metadata": {
        "colab": {
          "base_uri": "https://localhost:8080/"
        },
        "id": "W44T85UPq5qI",
        "outputId": "ba47a3ea-8f1a-49d4-bbe2-27f8283f3996"
      },
      "source": [
        "a = accumulator()\n",
        "print(a)"
      ],
      "execution_count": 4,
      "outputs": [
        {
          "output_type": "stream",
          "name": "stdout",
          "text": [
            "1684\n"
          ]
        }
      ]
    },
    {
      "cell_type": "code",
      "metadata": {
        "id": "NZs7C2CwtpWo"
      },
      "source": [
        "#part 2\n",
        "\n",
        "def get_end_line():\n",
        "  acc = 0\n",
        "  line = 0\n",
        "  instructions = []\n",
        "\n",
        "  while line not in instructions: # loop until it is not if it is stop\n",
        "    instructions.append(line)\n",
        "\n",
        "    current = aoc[line]\n",
        "    current = current.split()\n",
        "\n",
        "    command = current[0]\n",
        "    num = current[0]\n",
        "\n",
        "    if '+' in num:\n",
        "      num = int(num[1:])\n",
        "    else:\n",
        "      num = int(current[1])\n",
        "\n",
        "      if command == 'acc':\n",
        "        acc += num\n",
        "        line += 1\n",
        "      elif command == 'jmp':\n",
        "        line += num\n",
        "      else:\n",
        "        command == 'nop'\n",
        "        line +=1\n",
        "      \n",
        "      if line >= len(aoc):\n",
        "        return acc, True\n",
        "\n",
        "  return acc, False\n"
      ],
      "execution_count": 5,
      "outputs": []
    },
    {
      "cell_type": "code",
      "metadata": {
        "colab": {
          "base_uri": "https://localhost:8080/"
        },
        "id": "v0THKQHBuwMe",
        "outputId": "cbd3cefc-9a88-4f73-92b4-c63cfca42671"
      },
      "source": [
        "for i in range(len(aoc)):\n",
        "    if 'jmp' in aoc[i]:\n",
        "      aoc[i] = aoc[i].replace('jmp', 'nop')\n",
        "      \n",
        "      acc, found = get_end_line()\n",
        "      \n",
        "\n",
        "      if found:\n",
        "        print(acc)\n",
        "        break\n",
        "\n",
        "      else:\n",
        "        aoc[i] = aoc[i].replace('nop', 'jmp')\n",
        "        \n",
        "        "
      ],
      "execution_count": 6,
      "outputs": [
        {
          "output_type": "stream",
          "name": "stdout",
          "text": [
            "2188\n"
          ]
        }
      ]
    }
  ]
}